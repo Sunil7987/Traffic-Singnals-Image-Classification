{
  "nbformat": 4,
  "nbformat_minor": 0,
  "metadata": {
    "colab": {
      "provenance": []
    },
    "kernelspec": {
      "name": "python3",
      "display_name": "Python 3"
    },
    "language_info": {
      "name": "python"
    }
  },
  "cells": [
    {
      "cell_type": "code",
      "execution_count": null,
      "metadata": {
        "colab": {
          "base_uri": "https://localhost:8080/"
        },
        "id": "QBD1sNwiCyT5",
        "outputId": "ee69518d-c3be-4761-ffb8-0aa796198c7d"
      },
      "outputs": [
        {
          "output_type": "stream",
          "name": "stdout",
          "text": [
            "Mounted at /content/drive\n"
          ]
        }
      ],
      "source": [
        "# connecting colab to drive\n",
        "from google.colab import drive\n",
        "drive.mount('/content/drive')"
      ]
    },
    {
      "cell_type": "code",
      "source": [
        "# importing required libraries\n",
        "from keras.applications.mobilenet import MobileNet,preprocess_input\n",
        "from keras.preprocessing.image import ImageDataGenerator\n",
        "from keras.models import Sequential\n",
        "from keras.layers import Flatten, Dense,Dropout\n",
        "import keras\n",
        "import numpy as np\n",
        "from keras.callbacks import ModelCheckpoint,EarlyStopping\n",
        "import matplotlib.pyplot as plt\n",
        "import cv2"
      ],
      "metadata": {
        "id": "ebtrKs7nkEmL"
      },
      "execution_count": null,
      "outputs": []
    },
    {
      "cell_type": "code",
      "source": [
        "# path of our data\n",
        "train = '/content/drive/MyDrive/Traffic_signal_/train'\n",
        "test = '/content/drive/MyDrive/Traffic_signal_/test'"
      ],
      "metadata": {
        "id": "-X_gdA0dk3eE"
      },
      "execution_count": null,
      "outputs": []
    },
    {
      "cell_type": "code",
      "source": [
        "# data augmetation for train data and fetching data from drive\n",
        "train_generator = ImageDataGenerator(width_shift_range=0.2,\n",
        "        height_shift_range=0.2,\n",
        "        rescale=1./255,\n",
        "        shear_range=0.2,\n",
        "        zoom_range=0.2,\n",
        "        fill_mode='nearest',\n",
        "        validation_split=0.2)    \n",
        "\n",
        "# making data to same size and shape\n",
        "image_generator = ImageDataGenerator(rescale=1/255, validation_split=0.2)    \n",
        "\n",
        "train_data = train_generator.flow_from_directory(batch_size=128,\n",
        "                                                 directory=train,\n",
        "                                                 target_size=(224,224), \n",
        "                                                 subset= 'training',\n",
        "                                                 class_mode='categorical')\n",
        "\n",
        "val_data = image_generator.flow_from_directory(batch_size=128,\n",
        "                                                 directory=train,\n",
        "                                                 target_size=(224,224), \n",
        "                                                 subset= 'validation',\n",
        "                                                 class_mode='categorical')\n",
        "test_gen = ImageDataGenerator(rescale=1./255)\n",
        "test_data = test_gen.flow_from_directory(test,\n",
        "                                       target_size=(224,224),batch_size=128)\n"
      ],
      "metadata": {
        "colab": {
          "base_uri": "https://localhost:8080/"
        },
        "id": "Z2LvWKwhk900",
        "outputId": "774c59ee-12fd-4995-b580-ea687de13b47"
      },
      "execution_count": null,
      "outputs": [
        {
          "output_type": "stream",
          "name": "stdout",
          "text": [
            "Found 3926 images belonging to 58 classes.\n",
            "Found 956 images belonging to 58 classes.\n",
            "Found 652 images belonging to 58 classes.\n"
          ]
        }
      ]
    },
    {
      "cell_type": "code",
      "source": [
        "# here we are using MobileNet transfer learning\n",
        "input_shape=(224,224,3)\n",
        "mobile_net = MobileNet(include_top=False,weights='imagenet',input_shape=input_shape)"
      ],
      "metadata": {
        "id": "IRufOmaN3bg_",
        "colab": {
          "base_uri": "https://localhost:8080/"
        },
        "outputId": "bf96e6c7-b3fd-4009-a204-a006474de17b"
      },
      "execution_count": null,
      "outputs": [
        {
          "output_type": "stream",
          "name": "stdout",
          "text": [
            "Downloading data from https://storage.googleapis.com/tensorflow/keras-applications/mobilenet/mobilenet_1_0_224_tf_no_top.h5\n",
            "17225924/17225924 [==============================] - 0s 0us/step\n"
          ]
        }
      ]
    },
    {
      "cell_type": "code",
      "source": [
        "# here do trainable layer False because it already trained in our MobileNet model\n",
        "for layer in mobile_net.layers[:]:\n",
        "    layer.trainable = False"
      ],
      "metadata": {
        "id": "JVJZoTY73bfQ"
      },
      "execution_count": null,
      "outputs": []
    },
    {
      "cell_type": "code",
      "source": [
        "# here I am creating my model and add mobilenet model with it\n",
        "model = Sequential()\n",
        "model.add(mobile_net)\n",
        "# Flatten layer does our array of image into 1D\n",
        "model.add(Flatten())\n",
        "# adding dense layer with model\n",
        "model.add(Dense(16,activation = 'relu'))\n",
        "# its output layer with 58 classes \n",
        "model.add(Dense(58, activation='softmax'))"
      ],
      "metadata": {
        "id": "GzCpuqCn3bbE"
      },
      "execution_count": null,
      "outputs": []
    },
    {
      "cell_type": "code",
      "source": [
        "# it adam optimizer with 0.00003 learning rate that helps model to learn data very slowly. it helps to increase accuracy\n",
        "# when we keep our lr high there is high chance to loose our data\n",
        "from keras.optimizers import Adam\n",
        "opt = Adam(lr=0.00003)"
      ],
      "metadata": {
        "colab": {
          "base_uri": "https://localhost:8080/"
        },
        "id": "PzlIqkFN3bXk",
        "outputId": "bce45108-f86e-4e3c-95ce-9ad8283537ef"
      },
      "execution_count": null,
      "outputs": [
        {
          "output_type": "stream",
          "name": "stderr",
          "text": [
            "/usr/local/lib/python3.7/dist-packages/keras/optimizers/optimizer_v2/adam.py:110: UserWarning: The `lr` argument is deprecated, use `learning_rate` instead.\n",
            "  super(Adam, self).__init__(name, **kwargs)\n"
          ]
        }
      ]
    },
    {
      "cell_type": "code",
      "source": [
        "# we compile our model\n",
        "# categorical_crossentropy takes the value in the form of one hot encondng \n",
        "# sparse_categorical_crossentropy takes the value in the form of list of value\n",
        "model.compile(loss='categorical_crossentropy',\n",
        "              optimizer=opt,\n",
        "              metrics=['accuracy']\n",
        "              )"
      ],
      "metadata": {
        "id": "RvbXwYHj3bWQ"
      },
      "execution_count": null,
      "outputs": []
    },
    {
      "cell_type": "code",
      "source": [
        "# it's model summary means how our model look like\n",
        "model.summary()"
      ],
      "metadata": {
        "colab": {
          "base_uri": "https://localhost:8080/"
        },
        "id": "Xoqgzsjl3bT_",
        "outputId": "f934bc78-fe06-4f4b-bf27-5f1941c58364"
      },
      "execution_count": null,
      "outputs": [
        {
          "output_type": "stream",
          "name": "stdout",
          "text": [
            "Model: \"sequential\"\n",
            "_________________________________________________________________\n",
            " Layer (type)                Output Shape              Param #   \n",
            "=================================================================\n",
            " mobilenet_1.00_224 (Functio  (None, 7, 7, 1024)       3228864   \n",
            " nal)                                                            \n",
            "                                                                 \n",
            " flatten (Flatten)           (None, 50176)             0         \n",
            "                                                                 \n",
            " dense (Dense)               (None, 16)                802832    \n",
            "                                                                 \n",
            " dense_1 (Dense)             (None, 58)                986       \n",
            "                                                                 \n",
            "=================================================================\n",
            "Total params: 4,032,682\n",
            "Trainable params: 803,818\n",
            "Non-trainable params: 3,228,864\n",
            "_________________________________________________________________\n"
          ]
        }
      ]
    },
    {
      "cell_type": "code",
      "source": [
        "# Early stopping stops the model when our accuracy does not increase  continuously 5 times\n",
        "early_stop = EarlyStopping(monitor = 'val_accuracy',patience=5)"
      ],
      "metadata": {
        "id": "ZLD98IWi3bSj"
      },
      "execution_count": null,
      "outputs": []
    },
    {
      "cell_type": "code",
      "source": [
        "# here we train our model using fit_generator.we are using fit generator because we have used keras data augmentation\n",
        "model.fit_generator(\n",
        "    train_data,\n",
        "    epochs=100,\n",
        "    validation_data=val_data,callbacks=early_stop)"
      ],
      "metadata": {
        "colab": {
          "base_uri": "https://localhost:8080/"
        },
        "id": "ajrJt5jjMXcK",
        "outputId": "518226d1-44f0-491a-edc3-e59b5ec5c5f3"
      },
      "execution_count": null,
      "outputs": [
        {
          "output_type": "stream",
          "name": "stderr",
          "text": [
            "/usr/local/lib/python3.7/dist-packages/ipykernel_launcher.py:4: UserWarning: `Model.fit_generator` is deprecated and will be removed in a future version. Please use `Model.fit`, which supports generators.\n",
            "  after removing the cwd from sys.path.\n"
          ]
        },
        {
          "output_type": "stream",
          "name": "stdout",
          "text": [
            "Epoch 1/100\n",
            "31/31 [==============================] - 200s 6s/step - loss: 2.4346 - accuracy: 0.4052 - val_loss: 2.2606 - val_accuracy: 0.4184\n",
            "Epoch 2/100\n",
            "31/31 [==============================] - 199s 6s/step - loss: 2.2130 - accuracy: 0.4488 - val_loss: 2.0571 - val_accuracy: 0.4906\n",
            "Epoch 3/100\n",
            "31/31 [==============================] - 193s 6s/step - loss: 2.0348 - accuracy: 0.4947 - val_loss: 1.9135 - val_accuracy: 0.5335\n",
            "Epoch 4/100\n",
            "31/31 [==============================] - 198s 6s/step - loss: 1.9079 - accuracy: 0.5451 - val_loss: 1.7721 - val_accuracy: 0.6067\n",
            "Epoch 5/100\n",
            "31/31 [==============================] - 198s 6s/step - loss: 1.7945 - accuracy: 0.5963 - val_loss: 1.6665 - val_accuracy: 0.6360\n",
            "Epoch 6/100\n",
            "31/31 [==============================] - 203s 7s/step - loss: 1.6876 - accuracy: 0.6182 - val_loss: 1.5652 - val_accuracy: 0.6506\n",
            "Epoch 7/100\n",
            "31/31 [==============================] - 191s 6s/step - loss: 1.6041 - accuracy: 0.6353 - val_loss: 1.4663 - val_accuracy: 0.6674\n",
            "Epoch 8/100\n",
            "31/31 [==============================] - 195s 6s/step - loss: 1.4993 - accuracy: 0.6600 - val_loss: 1.3572 - val_accuracy: 0.6925\n",
            "Epoch 9/100\n",
            "31/31 [==============================] - 190s 6s/step - loss: 1.4092 - accuracy: 0.6770 - val_loss: 1.2762 - val_accuracy: 0.6998\n",
            "Epoch 10/100\n",
            "31/31 [==============================] - 186s 6s/step - loss: 1.3180 - accuracy: 0.6992 - val_loss: 1.2174 - val_accuracy: 0.7123\n",
            "Epoch 11/100\n",
            "31/31 [==============================] - 197s 6s/step - loss: 1.2671 - accuracy: 0.7030 - val_loss: 1.1522 - val_accuracy: 0.7207\n",
            "Epoch 12/100\n",
            "31/31 [==============================] - 195s 6s/step - loss: 1.2072 - accuracy: 0.7155 - val_loss: 1.0958 - val_accuracy: 0.7259\n",
            "Epoch 13/100\n",
            "31/31 [==============================] - 187s 6s/step - loss: 1.1601 - accuracy: 0.7178 - val_loss: 1.0425 - val_accuracy: 0.7333\n",
            "Epoch 14/100\n",
            "31/31 [==============================] - 192s 6s/step - loss: 1.1037 - accuracy: 0.7292 - val_loss: 0.9898 - val_accuracy: 0.7385\n",
            "Epoch 15/100\n",
            "31/31 [==============================] - 195s 6s/step - loss: 1.0704 - accuracy: 0.7361 - val_loss: 0.9491 - val_accuracy: 0.7427\n",
            "Epoch 16/100\n",
            "31/31 [==============================] - 190s 6s/step - loss: 1.0187 - accuracy: 0.7415 - val_loss: 0.9089 - val_accuracy: 0.7542\n",
            "Epoch 17/100\n",
            "31/31 [==============================] - 190s 6s/step - loss: 0.9796 - accuracy: 0.7545 - val_loss: 0.8678 - val_accuracy: 0.7667\n",
            "Epoch 18/100\n",
            "31/31 [==============================] - 194s 6s/step - loss: 0.9360 - accuracy: 0.7680 - val_loss: 0.8294 - val_accuracy: 0.7762\n",
            "Epoch 19/100\n",
            "31/31 [==============================] - 189s 6s/step - loss: 0.8990 - accuracy: 0.7743 - val_loss: 0.7945 - val_accuracy: 0.7856\n",
            "Epoch 20/100\n",
            "31/31 [==============================] - 190s 6s/step - loss: 0.8519 - accuracy: 0.7886 - val_loss: 0.7572 - val_accuracy: 0.8023\n",
            "Epoch 21/100\n",
            "31/31 [==============================] - 195s 6s/step - loss: 0.8254 - accuracy: 0.7960 - val_loss: 0.7267 - val_accuracy: 0.8128\n",
            "Epoch 22/100\n",
            "31/31 [==============================] - 187s 6s/step - loss: 0.8000 - accuracy: 0.8016 - val_loss: 0.6992 - val_accuracy: 0.8180\n",
            "Epoch 23/100\n",
            "31/31 [==============================] - 195s 6s/step - loss: 0.7596 - accuracy: 0.8072 - val_loss: 0.6649 - val_accuracy: 0.8379\n",
            "Epoch 24/100\n",
            "31/31 [==============================] - 194s 6s/step - loss: 0.7334 - accuracy: 0.8161 - val_loss: 0.6345 - val_accuracy: 0.8473\n",
            "Epoch 25/100\n",
            "31/31 [==============================] - 185s 6s/step - loss: 0.6992 - accuracy: 0.8271 - val_loss: 0.6134 - val_accuracy: 0.8567\n",
            "Epoch 26/100\n",
            "31/31 [==============================] - 195s 6s/step - loss: 0.6634 - accuracy: 0.8403 - val_loss: 0.5864 - val_accuracy: 0.8619\n",
            "Epoch 27/100\n",
            "31/31 [==============================] - 193s 6s/step - loss: 0.6559 - accuracy: 0.8441 - val_loss: 0.5547 - val_accuracy: 0.8713\n",
            "Epoch 28/100\n",
            "31/31 [==============================] - 185s 6s/step - loss: 0.6244 - accuracy: 0.8556 - val_loss: 0.5357 - val_accuracy: 0.8766\n",
            "Epoch 29/100\n",
            "31/31 [==============================] - 194s 6s/step - loss: 0.5948 - accuracy: 0.8625 - val_loss: 0.5055 - val_accuracy: 0.8808\n",
            "Epoch 30/100\n",
            "31/31 [==============================] - 189s 6s/step - loss: 0.5739 - accuracy: 0.8724 - val_loss: 0.4817 - val_accuracy: 0.8870\n",
            "Epoch 31/100\n",
            "31/31 [==============================] - 189s 6s/step - loss: 0.5444 - accuracy: 0.8803 - val_loss: 0.4588 - val_accuracy: 0.8944\n",
            "Epoch 32/100\n",
            "31/31 [==============================] - 193s 6s/step - loss: 0.5242 - accuracy: 0.8856 - val_loss: 0.4342 - val_accuracy: 0.9006\n",
            "Epoch 33/100\n",
            "31/31 [==============================] - 189s 6s/step - loss: 0.5020 - accuracy: 0.8948 - val_loss: 0.4147 - val_accuracy: 0.9048\n",
            "Epoch 34/100\n",
            "31/31 [==============================] - 188s 6s/step - loss: 0.4869 - accuracy: 0.8966 - val_loss: 0.3969 - val_accuracy: 0.9090\n",
            "Epoch 35/100\n",
            "31/31 [==============================] - 192s 6s/step - loss: 0.4579 - accuracy: 0.9052 - val_loss: 0.3812 - val_accuracy: 0.9132\n",
            "Epoch 36/100\n",
            "31/31 [==============================] - 189s 6s/step - loss: 0.4369 - accuracy: 0.9086 - val_loss: 0.3620 - val_accuracy: 0.9184\n",
            "Epoch 37/100\n",
            "31/31 [==============================] - 189s 6s/step - loss: 0.4218 - accuracy: 0.9114 - val_loss: 0.3482 - val_accuracy: 0.9215\n",
            "Epoch 38/100\n",
            "31/31 [==============================] - 192s 6s/step - loss: 0.4069 - accuracy: 0.9167 - val_loss: 0.3291 - val_accuracy: 0.9257\n",
            "Epoch 39/100\n",
            "31/31 [==============================] - 185s 6s/step - loss: 0.3827 - accuracy: 0.9238 - val_loss: 0.3136 - val_accuracy: 0.9310\n",
            "Epoch 40/100\n",
            "31/31 [==============================] - 191s 6s/step - loss: 0.3729 - accuracy: 0.9251 - val_loss: 0.3041 - val_accuracy: 0.9362\n",
            "Epoch 41/100\n",
            "31/31 [==============================] - 188s 6s/step - loss: 0.3619 - accuracy: 0.9322 - val_loss: 0.2865 - val_accuracy: 0.9414\n",
            "Epoch 42/100\n",
            "31/31 [==============================] - 188s 6s/step - loss: 0.3519 - accuracy: 0.9294 - val_loss: 0.2760 - val_accuracy: 0.9425\n",
            "Epoch 43/100\n",
            "31/31 [==============================] - 193s 6s/step - loss: 0.3284 - accuracy: 0.9335 - val_loss: 0.2629 - val_accuracy: 0.9467\n",
            "Epoch 44/100\n",
            "31/31 [==============================] - 188s 6s/step - loss: 0.3203 - accuracy: 0.9389 - val_loss: 0.2530 - val_accuracy: 0.9487\n",
            "Epoch 45/100\n",
            "31/31 [==============================] - 188s 6s/step - loss: 0.3096 - accuracy: 0.9429 - val_loss: 0.2438 - val_accuracy: 0.9529\n",
            "Epoch 46/100\n",
            "31/31 [==============================] - 192s 6s/step - loss: 0.2914 - accuracy: 0.9460 - val_loss: 0.2341 - val_accuracy: 0.9561\n",
            "Epoch 47/100\n",
            "31/31 [==============================] - 188s 6s/step - loss: 0.2799 - accuracy: 0.9511 - val_loss: 0.2202 - val_accuracy: 0.9561\n",
            "Epoch 48/100\n",
            "31/31 [==============================] - 188s 6s/step - loss: 0.2690 - accuracy: 0.9503 - val_loss: 0.2117 - val_accuracy: 0.9634\n",
            "Epoch 49/100\n",
            "31/31 [==============================] - 198s 6s/step - loss: 0.2559 - accuracy: 0.9547 - val_loss: 0.1953 - val_accuracy: 0.9634\n",
            "Epoch 50/100\n",
            "31/31 [==============================] - 190s 6s/step - loss: 0.2421 - accuracy: 0.9598 - val_loss: 0.1857 - val_accuracy: 0.9665\n",
            "Epoch 51/100\n",
            "31/31 [==============================] - 189s 6s/step - loss: 0.2279 - accuracy: 0.9633 - val_loss: 0.1733 - val_accuracy: 0.9676\n",
            "Epoch 52/100\n",
            "31/31 [==============================] - 194s 6s/step - loss: 0.2210 - accuracy: 0.9603 - val_loss: 0.1641 - val_accuracy: 0.9718\n",
            "Epoch 53/100\n",
            "31/31 [==============================] - 189s 6s/step - loss: 0.2075 - accuracy: 0.9654 - val_loss: 0.1574 - val_accuracy: 0.9707\n",
            "Epoch 54/100\n",
            "31/31 [==============================] - 189s 6s/step - loss: 0.2087 - accuracy: 0.9646 - val_loss: 0.1509 - val_accuracy: 0.9728\n",
            "Epoch 55/100\n",
            "31/31 [==============================] - 193s 6s/step - loss: 0.1937 - accuracy: 0.9699 - val_loss: 0.1437 - val_accuracy: 0.9718\n",
            "Epoch 56/100\n",
            "31/31 [==============================] - 188s 6s/step - loss: 0.1884 - accuracy: 0.9682 - val_loss: 0.1387 - val_accuracy: 0.9770\n",
            "Epoch 57/100\n",
            "31/31 [==============================] - 183s 6s/step - loss: 0.1730 - accuracy: 0.9761 - val_loss: 0.1335 - val_accuracy: 0.9801\n",
            "Epoch 58/100\n",
            "31/31 [==============================] - 188s 6s/step - loss: 0.1677 - accuracy: 0.9735 - val_loss: 0.1284 - val_accuracy: 0.9791\n",
            "Epoch 59/100\n",
            "31/31 [==============================] - 188s 6s/step - loss: 0.1594 - accuracy: 0.9733 - val_loss: 0.1217 - val_accuracy: 0.9822\n",
            "Epoch 60/100\n",
            "31/31 [==============================] - 187s 6s/step - loss: 0.1569 - accuracy: 0.9768 - val_loss: 0.1162 - val_accuracy: 0.9812\n",
            "Epoch 61/100\n",
            "31/31 [==============================] - 196s 6s/step - loss: 0.1475 - accuracy: 0.9796 - val_loss: 0.1116 - val_accuracy: 0.9833\n",
            "Epoch 62/100\n",
            "31/31 [==============================] - 207s 7s/step - loss: 0.1429 - accuracy: 0.9773 - val_loss: 0.1081 - val_accuracy: 0.9843\n",
            "Epoch 63/100\n",
            "31/31 [==============================] - 190s 6s/step - loss: 0.1272 - accuracy: 0.9806 - val_loss: 0.1019 - val_accuracy: 0.9864\n",
            "Epoch 64/100\n",
            "31/31 [==============================] - 189s 6s/step - loss: 0.1329 - accuracy: 0.9812 - val_loss: 0.1008 - val_accuracy: 0.9864\n",
            "Epoch 65/100\n",
            "31/31 [==============================] - 193s 6s/step - loss: 0.1165 - accuracy: 0.9842 - val_loss: 0.0984 - val_accuracy: 0.9854\n",
            "Epoch 66/100\n",
            "31/31 [==============================] - 189s 6s/step - loss: 0.1204 - accuracy: 0.9801 - val_loss: 0.0976 - val_accuracy: 0.9885\n",
            "Epoch 67/100\n",
            "31/31 [==============================] - 189s 6s/step - loss: 0.1161 - accuracy: 0.9832 - val_loss: 0.0910 - val_accuracy: 0.9854\n",
            "Epoch 68/100\n",
            "31/31 [==============================] - 194s 6s/step - loss: 0.1067 - accuracy: 0.9855 - val_loss: 0.0856 - val_accuracy: 0.9854\n",
            "Epoch 69/100\n",
            "31/31 [==============================] - 189s 6s/step - loss: 0.1059 - accuracy: 0.9847 - val_loss: 0.0834 - val_accuracy: 0.9864\n",
            "Epoch 70/100\n",
            "31/31 [==============================] - 193s 6s/step - loss: 0.1104 - accuracy: 0.9817 - val_loss: 0.0797 - val_accuracy: 0.9864\n",
            "Epoch 71/100\n",
            "31/31 [==============================] - 190s 6s/step - loss: 0.0997 - accuracy: 0.9878 - val_loss: 0.0790 - val_accuracy: 0.9885\n"
          ]
        },
        {
          "output_type": "execute_result",
          "data": {
            "text/plain": [
              "<keras.callbacks.History at 0x7f352b93b490>"
            ]
          },
          "metadata": {},
          "execution_count": 24
        }
      ]
    },
    {
      "cell_type": "code",
      "source": [
        "# we are evaluating our model\n",
        "model.evaluate(test_data,batch_size=32)"
      ],
      "metadata": {
        "colab": {
          "base_uri": "https://localhost:8080/"
        },
        "id": "Sp5qQD2T3xWO",
        "outputId": "6432288a-7c5f-4429-9fe7-110a3d596b67"
      },
      "execution_count": null,
      "outputs": [
        {
          "output_type": "stream",
          "name": "stdout",
          "text": [
            "6/6 [==============================] - 156s 30s/step - loss: 0.0933 - accuracy: 0.9877\n"
          ]
        },
        {
          "output_type": "execute_result",
          "data": {
            "text/plain": [
              "[0.09325174987316132, 0.987730085849762]"
            ]
          },
          "metadata": {},
          "execution_count": 25
        }
      ]
    },
    {
      "cell_type": "code",
      "source": [
        "# getting path of inference images\n",
        "infer = '/content/drive/MyDrive/Traffic_signal_/infer'"
      ],
      "metadata": {
        "id": "OHks_22JJM6g"
      },
      "execution_count": null,
      "outputs": []
    },
    {
      "cell_type": "code",
      "source": [
        "infer_gen = ImageDataGenerator(rescale=1./255)\n",
        "infer_data = infer_gen.flow_from_directory(infer,\n",
        "                                       target_size=(224,224),batch_size=128)\n"
      ],
      "metadata": {
        "colab": {
          "base_uri": "https://localhost:8080/"
        },
        "id": "-iVr3Wn_IFyw",
        "outputId": "b0a24b9c-462a-456e-d4e3-4a81548a6d97"
      },
      "execution_count": null,
      "outputs": [
        {
          "output_type": "stream",
          "name": "stdout",
          "text": [
            "Found 515 images belonging to 58 classes.\n"
          ]
        }
      ]
    },
    {
      "cell_type": "code",
      "source": [
        "# evaluating the infer dataset\n",
        "model.evaluate(infer_data,batch_size=32)"
      ],
      "metadata": {
        "colab": {
          "base_uri": "https://localhost:8080/"
        },
        "id": "htvcCZMNr-5u",
        "outputId": "f6e40b3c-c929-4b5b-beba-be40e0c67c5e"
      },
      "execution_count": null,
      "outputs": [
        {
          "output_type": "stream",
          "name": "stdout",
          "text": [
            "5/5 [==============================] - 16s 3s/step - loss: 0.2079 - accuracy: 0.9573\n"
          ]
        },
        {
          "output_type": "execute_result",
          "data": {
            "text/plain": [
              "[0.2079179286956787, 0.9572815299034119]"
            ]
          },
          "metadata": {},
          "execution_count": 42
        }
      ]
    },
    {
      "cell_type": "code",
      "source": [
        "# we save our model\n",
        "from keras.models import load_model\n",
        "model.save('traffic_aug_merge98.h5')\n",
        "model.save(\"/content/drive/MyDrive/Traffic_signal_/traffic_merge_aug_val98.h5\")"
      ],
      "metadata": {
        "id": "XHE7sBk8lAEs"
      },
      "execution_count": null,
      "outputs": []
    },
    {
      "cell_type": "code",
      "source": [
        "# taking path of saved model\n",
        "new_model = load_model('/content/drive/MyDrive/Traffic_signal_/traffic_merge_aug_val98.h5')"
      ],
      "metadata": {
        "id": "bAQv7YijledJ"
      },
      "execution_count": null,
      "outputs": []
    },
    {
      "cell_type": "code",
      "source": [
        "# again evaluating the test_data with saved model\n",
        "new_model.evaluate(test_data,batch_size=32)"
      ],
      "metadata": {
        "colab": {
          "base_uri": "https://localhost:8080/"
        },
        "id": "VcmY27ozlhbE",
        "outputId": "4746ae64-f04e-4601-88d9-4bb238622295"
      },
      "execution_count": null,
      "outputs": [
        {
          "output_type": "stream",
          "name": "stdout",
          "text": [
            "6/6 [==============================] - 21s 3s/step - loss: 0.0933 - accuracy: 0.9877\n"
          ]
        },
        {
          "output_type": "execute_result",
          "data": {
            "text/plain": [
              "[0.09325174987316132, 0.987730085849762]"
            ]
          },
          "metadata": {},
          "execution_count": 31
        }
      ]
    },
    {
      "cell_type": "code",
      "source": [
        "# again evaluating the infer_data with saved model\n",
        "new_model.evaluate(infer_data,batch_size=32)"
      ],
      "metadata": {
        "colab": {
          "base_uri": "https://localhost:8080/"
        },
        "id": "g-4a9A6fJeCp",
        "outputId": "b3bffa9c-196c-477f-89e4-b848bda0146c"
      },
      "execution_count": null,
      "outputs": [
        {
          "output_type": "stream",
          "name": "stdout",
          "text": [
            "5/5 [==============================] - 17s 3s/step - loss: 0.2079 - accuracy: 0.9573\n"
          ]
        },
        {
          "output_type": "execute_result",
          "data": {
            "text/plain": [
              "[0.2079179286956787, 0.9572815299034119]"
            ]
          },
          "metadata": {},
          "execution_count": 43
        }
      ]
    },
    {
      "cell_type": "code",
      "source": [
        "# here we are checking that our model does prediction right or not\n",
        "img = plt.imread('/content/drive/MyDrive/Traffic_signal_/infer/10/010_0008_j.png')\n",
        "plt.imshow(img)\n",
        "plt.show()"
      ],
      "metadata": {
        "id": "UqGTDoJZljrU",
        "colab": {
          "base_uri": "https://localhost:8080/",
          "height": 268
        },
        "outputId": "27a93918-b2c5-453c-ebc8-a61b21873609"
      },
      "execution_count": null,
      "outputs": [
        {
          "output_type": "display_data",
          "data": {
            "text/plain": [
              "<Figure size 432x288 with 1 Axes>"
            ],
            "image/png": "[encoded data removed]"
          },
          "metadata": {
            "needs_background": "light"
          }
        }
      ]
    },
    {
      "cell_type": "code",
      "source": [
        "# # resize image becuase in this size we have train our model\n",
        "infer_img = cv2.resize(img,(224,224))"
      ],
      "metadata": {
        "id": "WPjoc_xDmTs4"
      },
      "execution_count": null,
      "outputs": []
    },
    {
      "cell_type": "code",
      "source": [
        "# converting our array to image\n",
        "x = keras.utils.array_to_img(infer_img)\n",
        "# it expands the dimention of array like if we have 1D array and we applied expand_dims that convert into 2D array\n",
        "x = np.expand_dims(x,axis=0)"
      ],
      "metadata": {
        "id": "3vR__7eXmbI_"
      },
      "execution_count": null,
      "outputs": []
    },
    {
      "cell_type": "code",
      "source": [
        "# preprocess our image\n",
        "x = preprocess_input(x)"
      ],
      "metadata": {
        "id": "0r62mrIzmbdp"
      },
      "execution_count": null,
      "outputs": []
    },
    {
      "cell_type": "code",
      "source": [
        "# prediction \n",
        "final = model.predict(x)"
      ],
      "metadata": {
        "colab": {
          "base_uri": "https://localhost:8080/"
        },
        "id": "fPwEQqbcmdYq",
        "outputId": "461acf77-2a83-49d9-d796-efe6e82faf3d"
      },
      "execution_count": null,
      "outputs": [
        {
          "output_type": "stream",
          "name": "stdout",
          "text": [
            "1/1 [==============================] - 0s 57ms/step\n"
          ]
        }
      ]
    },
    {
      "cell_type": "code",
      "source": [
        "# argmax return the maximum element of the array\n",
        "traffic=[' Speed limit (5km/h)','Speed limit (15km/h)','Dont Go straight','Dont Go Left','Dont Go Left or Right',' Dont Go Right','Dont overtake from Left','No Uturn','No Car','No horn','Speed limit (40km/h)',' Speed limit (50km/h)','Speed limit (30km/h)','Go straight or right','Go straight','Go Left','Go Left or right','Go Right',' keep Left','keep Right','Roundabout mandatory','watch out for cars','Horn','Speed limit (40km/h)','Bicycles crossing','Uturn','Road Divider','Traffic signals','Danger Ahead','Zebra Crossing','Bicycles crossing','Children crossing','Dangerous curve to the left','Dangerous curve to the right','Speed limit (50km/h)','Unknown1','Unknown2','Unknown3',' Go right or straight',' Go left or straight',' Unknown4','ZigZag Curve','Train Crossing','Under Construction','Unknown5','Speed limit (60km/h)','Fences','Heavy Vehicle Accidents','Unknown6','Give Way','No stopping','No entry','Unknown7','Unknown8','Speed limit (70km/h)','speed limit (80km/h','Dont Go straight or left','Dont Go straight or Right']\n",
        "predicted = traffic[np.argmax(model.predict(x)[0])]"
      ],
      "metadata": {
        "colab": {
          "base_uri": "https://localhost:8080/"
        },
        "id": "G9YroKJmg_5t",
        "outputId": "2f43560a-0d02-40d4-aa17-772a44fbb1a4"
      },
      "execution_count": null,
      "outputs": [
        {
          "output_type": "stream",
          "name": "stdout",
          "text": [
            "1/1 [==============================] - 0s 57ms/step\n"
          ]
        }
      ]
    },
    {
      "cell_type": "code",
      "source": [
        "# model working almost fine\n",
        "predicted"
      ],
      "metadata": {
        "colab": {
          "base_uri": "https://localhost:8080/",
          "height": 35
        },
        "id": "ZNXmyATAmspg",
        "outputId": "25aaecd8-96f9-44a2-87df-cf18d8de18fd"
      },
      "execution_count": null,
      "outputs": [
        {
          "output_type": "execute_result",
          "data": {
            "text/plain": [
              "'Dont Go straight'"
            ],
            "application/vnd.google.colaboratory.intrinsic+json": {
              "type": "string"
            }
          },
          "metadata": {},
          "execution_count": 62
        }
      ]
    },
    {
      "cell_type": "code",
      "source": [],
      "metadata": {
        "id": "8a3_MMPMmu7o"
      },
      "execution_count": null,
      "outputs": []
    }
  ]
}